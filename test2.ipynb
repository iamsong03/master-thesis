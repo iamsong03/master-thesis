{
 "cells": [
  {
   "cell_type": "code",
   "execution_count": 6,
   "metadata": {},
   "outputs": [],
   "source": [
    "import qutip as qt\n",
    "import matplotlib.pyplot as plt\n",
    "import scipy as sp\n",
    "import numpy as np"
   ]
  },
  {
   "cell_type": "code",
   "execution_count": 15,
   "metadata": {},
   "outputs": [],
   "source": [
    "cutoff = 5\n",
    "vacuum = qt.basis(cutoff, 0)"
   ]
  },
  {
   "cell_type": "code",
   "execution_count": 38,
   "metadata": {},
   "outputs": [
    {
     "name": "stdout",
     "output_type": "stream",
     "text": [
      "[[0.        +0.j 0.        +0.j 0.        +0.j 0.        +0.j\n",
      "  0.        +0.j]\n",
      " [1.        +0.j 0.        +0.j 0.        +0.j 0.        +0.j\n",
      "  0.        +0.j]\n",
      " [0.        +0.j 1.41421356+0.j 0.        +0.j 0.        +0.j\n",
      "  0.        +0.j]\n",
      " [0.        +0.j 0.        +0.j 1.73205081+0.j 0.        +0.j\n",
      "  0.        +0.j]\n",
      " [0.        +0.j 0.        +0.j 0.        +0.j 2.        +0.j\n",
      "  0.        +0.j]]\n"
     ]
    }
   ],
   "source": [
    "a = qt.destroy(cutoff)\n",
    "a_dag = qt.create(cutoff)\n",
    "print(a_dag.full())"
   ]
  },
  {
   "cell_type": "code",
   "execution_count": 39,
   "metadata": {},
   "outputs": [],
   "source": [
    "def annihilation(dim = cutoff):\n",
    "    dvals = np.sqrt(np.array(range(1, dim), dtype=complex))\n",
    "    a_num = np.diag(dvals, k=1)\n",
    "    \n",
    "    return np.asmatrix(a_num)\n",
    "\n",
    "def creation(dim = cutoff):\n",
    "    a_dag_num = annihilation(dim).getH()\n",
    "    \n",
    "    return a_dag_num"
   ]
  },
  {
   "cell_type": "code",
   "execution_count": 41,
   "metadata": {},
   "outputs": [],
   "source": [
    "def displacment_num(dim = cutoff, x = 0., y = 0.):\n",
    "    alpha = complex(x, y)\n",
    "    a = annihilation(dim)\n",
    "    a_dag = creation(dim)\n",
    "    D = sp.linalg.expm(alpha*a_dag - np.conj(alpha)*a)\n",
    "    return D"
   ]
  },
  {
   "cell_type": "code",
   "execution_count": 45,
   "metadata": {},
   "outputs": [
    {
     "name": "stdout",
     "output_type": "stream",
     "text": [
      "[[ 0.40761178+0.j -0.51497055+0.j  0.46534123+0.j -0.40888192+0.j\n",
      "   0.43003615+0.j]\n",
      " [ 0.51497055+0.j -0.2504801 +0.j -0.02007408+0.j -0.05407766+0.j\n",
      "  -0.81776384+0.j]\n",
      " [ 0.46534123+0.j  0.02007408+0.j  0.14479717+0.j  0.84278391+0.j\n",
      "   0.22760412+0.j]\n",
      " [ 0.40888192+0.j -0.05407766+0.j -0.84278391+0.j -0.16217165+0.j\n",
      "   0.30546166+0.j]\n",
      " [ 0.43003615+0.j  0.81776384+0.j  0.22760412+0.j -0.30546166+0.j\n",
      "   0.0349393 +0.j]]\n"
     ]
    }
   ],
   "source": [
    "print(displacment_num(x = 6., y = 0.))"
   ]
  },
  {
   "cell_type": "code",
   "execution_count": 46,
   "metadata": {},
   "outputs": [
    {
     "name": "stdout",
     "output_type": "stream",
     "text": [
      "[[ 0.40761178+0.j -0.51497055+0.j  0.46534123+0.j -0.40888192+0.j\n",
      "   0.43003615+0.j]\n",
      " [ 0.51497055+0.j -0.2504801 +0.j -0.02007408+0.j -0.05407766+0.j\n",
      "  -0.81776384+0.j]\n",
      " [ 0.46534123+0.j  0.02007408+0.j  0.14479717+0.j  0.84278391+0.j\n",
      "   0.22760412+0.j]\n",
      " [ 0.40888192+0.j -0.05407766+0.j -0.84278391+0.j -0.16217165+0.j\n",
      "   0.30546166+0.j]\n",
      " [ 0.43003615+0.j  0.81776384+0.j  0.22760412+0.j -0.30546166+0.j\n",
      "   0.0349393 +0.j]]\n"
     ]
    }
   ],
   "source": [
    "D = qt.displace(cutoff, complex(6., 0.))\n",
    "print(np.asmatrix(D.full()))"
   ]
  },
  {
   "cell_type": "code",
   "execution_count": 122,
   "metadata": {},
   "outputs": [
    {
     "name": "stdout",
     "output_type": "stream",
     "text": [
      "[1.08155388]\n"
     ]
    }
   ],
   "source": [
    "k = np.random.randn(1)\n",
    "print(k)"
   ]
  }
 ],
 "metadata": {
  "kernelspec": {
   "display_name": "Python (tfenv)",
   "language": "python",
   "name": "tfenv"
  },
  "language_info": {
   "codemirror_mode": {
    "name": "ipython",
    "version": 3
   },
   "file_extension": ".py",
   "mimetype": "text/x-python",
   "name": "python",
   "nbconvert_exporter": "python",
   "pygments_lexer": "ipython3",
   "version": "3.11.2"
  }
 },
 "nbformat": 4,
 "nbformat_minor": 2
}
